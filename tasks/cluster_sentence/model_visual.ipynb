{
 "cells": [
  {
   "cell_type": "code",
   "execution_count": 24,
   "id": "168796cb",
   "metadata": {},
   "outputs": [],
   "source": [
    "from transformers import (\n",
    "    TrainingArguments,\n",
    "    HfArgumentParser,\n",
    "    LayoutLMv3ForTokenClassification,\n",
    "    set_seed,\n",
    ")\n"
   ]
  },
  {
   "cell_type": "code",
   "execution_count": 25,
   "id": "4c6946c3",
   "metadata": {},
   "outputs": [],
   "source": [
    "from obc_dataset_seq import ObcReadingOrderDataset, DataLoader\n",
    "from seq_split_model import SeqProcessMlModel\n",
    "from transformers import BertTokenizer\n",
    "import json\n",
    "import os\n",
    "import glob\n",
    "import torch.nn as nn\n",
    "import torch\n",
    "import tqdm\n",
    "from torch.utils.tensorboard import SummaryWriter\n",
    "from datetime import datetime\n",
    "import torch.nn.functional as F\n",
    "from sklearn.metrics import adjusted_mutual_info_score, normalized_mutual_info_score, adjusted_rand_score\n",
    "from collections import Counter\n",
    "import numpy as np"
   ]
  },
  {
   "cell_type": "code",
   "execution_count": 26,
   "id": "1c82fbb8",
   "metadata": {},
   "outputs": [],
   "source": [
    "\n",
    "\n",
    "def evaluate_clustering(true_labels, pred_labels):\n",
    "    def cluster_purity(y_true, y_pred):\n",
    "        cluster_labels = set(y_pred)\n",
    "        total_correct = 0\n",
    "        for cluster in cluster_labels:\n",
    "            indices = np.where(y_pred == cluster)[0]\n",
    "            true_labels_in_cluster = y_true[indices]\n",
    "            if len(true_labels_in_cluster) == 0:\n",
    "                continue\n",
    "            most_common = Counter(true_labels_in_cluster).most_common(1)[0][1]\n",
    "            total_correct += most_common\n",
    "        return total_correct / len(y_true)\n",
    "\n",
    "    true_labels = np.array(true_labels)\n",
    "    pred_labels = np.array(pred_labels)\n",
    "\n",
    "    return {\n",
    "        \"AMI\": adjusted_mutual_info_score(true_labels, pred_labels),\n",
    "        \"NMI\": normalized_mutual_info_score(true_labels, pred_labels),\n",
    "        \"ARI\": adjusted_rand_score(true_labels, pred_labels),\n",
    "        \"Purity\": cluster_purity(true_labels, pred_labels)\n",
    "    }\n"
   ]
  },
  {
   "cell_type": "code",
   "execution_count": 27,
   "id": "ec545821",
   "metadata": {},
   "outputs": [],
   "source": [
    "device = torch.device(\"cuda:0\" if torch.cuda.is_available() else \"cpu\")"
   ]
  },
  {
   "cell_type": "code",
   "execution_count": 28,
   "id": "88bea006",
   "metadata": {},
   "outputs": [],
   "source": [
    "bert_tokenizer = BertTokenizer.from_pretrained(\"oracle_bert_sub\")\n",
    "dataset = ObcReadingOrderDataset(\n",
    "        tokenizer=bert_tokenizer,\n",
    "        data_dir=\"datasets_sub/test_dataset.json\",\n",
    "        enhance_random_char_p=0.0\n",
    "    )"
   ]
  },
  {
   "cell_type": "code",
   "execution_count": 29,
   "id": "a839b4e0",
   "metadata": {},
   "outputs": [],
   "source": [
    "model = SeqProcessMlModel(\"oracle_bert_sub\", 4, 100, dataset.seq_max_length + 1).to(device)"
   ]
  },
  {
   "cell_type": "code",
   "execution_count": 30,
   "id": "b0f7592a",
   "metadata": {},
   "outputs": [
    {
     "name": "stdout",
     "output_type": "stream",
     "text": [
      "load checkpoint done\n"
     ]
    }
   ],
   "source": [
    "checkpoint_dir = f\"checkpoints_exp_sub/{dataset.__class__.__name__}\"\n",
    "\n",
    "state_dict = torch.load(f\"{checkpoint_dir}/last.pt\")\n",
    "load_state_dict = {}\n",
    "for k, v in state_dict.items():\n",
    "    if k.startswith(\"module.\"):\n",
    "        load_state_dict[k[len(\"module.\"):]] = v\n",
    "model.load_state_dict(load_state_dict)\n",
    "model.eval()\n",
    "print(\"load checkpoint done\")"
   ]
  },
  {
   "cell_type": "code",
   "execution_count": 31,
   "id": "cf548d18",
   "metadata": {},
   "outputs": [],
   "source": [
    "from sklearn.cluster import DBSCAN, KMeans\n",
    "from collections import defaultdict\n",
    "import tqdm"
   ]
  },
  {
   "cell_type": "code",
   "execution_count": 32,
   "id": "88692746",
   "metadata": {},
   "outputs": [],
   "source": [
    "import networkx as nx\n",
    "import community  # python-louvain\n",
    "import numpy as np\n",
    "\n",
    "def louvain_clustering(adjacency_matrix: np.ndarray, edge_confidence=0.8):\n",
    "    G = nx.Graph()\n",
    "    M = len(adjacency_matrix)\n",
    "\n",
    "    # 构建图\n",
    "    for i in range(M):\n",
    "        for j in range(i + 1, M):\n",
    "            if adjacency_matrix[i][j]:\n",
    "                G.add_edge(i, j, weight=edge_confidence)\n",
    "\n",
    "    # Louvain 聚类\n",
    "    partition = community.best_partition(G, weight='weight')\n",
    "\n",
    "    # 将聚类编号转换为列表形式，索引表示节点编号，值为聚类编号\n",
    "    labels = [partition.get(i, -1) for i in range(M)]\n",
    "\n",
    "    # 为了输出美观、聚类编号从0开始、连续，进行编号映射\n",
    "    unique_ids = sorted(set(labels))\n",
    "    id_map = {old: new for new, old in enumerate(unique_ids)}\n",
    "    remapped_labels = [id_map[label] for label in labels]\n",
    "\n",
    "    return remapped_labels\n",
    "\n",
    "\n"
   ]
  },
  {
   "cell_type": "code",
   "execution_count": 34,
   "id": "8530c37b",
   "metadata": {},
   "outputs": [
    {
     "name": "stderr",
     "output_type": "stream",
     "text": [
      "100%|██████████| 1008/1008 [00:40<00:00, 24.64it/s]"
     ]
    },
    {
     "name": "stdout",
     "output_type": "stream",
     "text": [
      "AMI 0.5135802816812648\n",
      "NMI 0.5327891380609244\n",
      "ARI 0.5024158805242709\n",
      "Purity 0.7994156400052178\n"
     ]
    },
    {
     "name": "stderr",
     "output_type": "stream",
     "text": [
      "\n"
     ]
    }
   ],
   "source": [
    "obc_train_loader = DataLoader(\n",
    "        dataset,\n",
    "        batch_size = 1,\n",
    "        shuffle=True,\n",
    "        collate_fn=dataset.collate_fn\n",
    "    )\n",
    "\n",
    "k_preds = []\n",
    "k_gts =  []\n",
    "\n",
    "evals_total = defaultdict(lambda: [])\n",
    "for batch_input in tqdm.tqdm(obc_train_loader):\n",
    "    batch_input = {k: v.to(device) for k, v in batch_input.items() if isinstance(v, torch.Tensor)}\n",
    "    inputs = {\n",
    "        \"input_ids\": batch_input['input_ids'],\n",
    "        \"attention_mask\": batch_input['attention_mask'],\n",
    "        \"position_ids\": batch_input['positions'],\n",
    "    }\n",
    "\n",
    "    k_gt = batch_input['K']\n",
    "    order_ids = batch_input['order_ids']\n",
    "    sentence_ids = batch_input['sentence_ids']\n",
    "    \n",
    "    seq_logic, sort_logic, k_pred = model(inputs, sentence_ids)\n",
    "    \n",
    "    k_pred = k_pred.max(-1)[-1].item()\n",
    "    k_real = k_gt.item()\n",
    "    \n",
    "    \n",
    "    \n",
    "    tensor = F.normalize(seq_logic, 2, -1)[0].detach().cpu().numpy()\n",
    "    tensor=tensor[1:]\n",
    "    cluster_k = k_pred if k_pred <= tensor.shape[0] else tensor.shape[0]\n",
    "    if cluster_k == 0:\n",
    "        continue\n",
    "    # kmeans = KMeans(n_clusters=cluster_k, \n",
    "    #                 init='k-means++', random_state=42, tol=5, max_iter=1000)\n",
    "    # labels = kmeans.fit_predict(tensor)\n",
    "    \n",
    "    # dist = torch.cdist(torch.from_numpy(tensor), torch.from_numpy(tensor)) < 0.2\n",
    "    # labels = louvain_clustering(dist.numpy(), 0.2)\n",
    "    \n",
    "    dbscan = DBSCAN(eps=0.15, min_samples=2)  # eps 和 min_samples 需根据数据调优\n",
    "    labels = dbscan.fit_predict(tensor)\n",
    "    \n",
    "    eval_result = evaluate_clustering(sentence_ids[0][1:].detach().cpu().numpy(), labels)\n",
    "    \n",
    "    for name, score in eval_result.items():\n",
    "        evals_total[name].append(score)\n",
    "\n",
    "    \n",
    "    len(set(labels))\n",
    "    # k_preds.append(k_pred)  \n",
    "    k_preds.append(len(set(labels)))  \n",
    "    k_gts.append(k_real)\n",
    "\n",
    "for key, scores in evals_total.items():\n",
    "    print(key, np.mean(scores))\n"
   ]
  },
  {
   "cell_type": "code",
   "execution_count": 38,
   "id": "d11efce3",
   "metadata": {},
   "outputs": [
    {
     "name": "stdout",
     "output_type": "stream",
     "text": [
      "K-pred Acc: 0.5625\n",
      "K-offest: 1.6507936716079712\n"
     ]
    }
   ],
   "source": [
    "k_preds_t = torch.tensor(k_preds)\n",
    "k_gts_t = torch.tensor(k_gts)\n",
    "print(f\"K-pred Acc: {(k_preds_t == k_gts_t).sum() / len(k_preds)}\")\n",
    "\n",
    "\n",
    "err_mask = ~(k_preds_t == k_gts_t)\n",
    "acc = (k_gts_t[err_mask] - k_preds_t[err_mask]).abs().sum() / len(k_preds_t[err_mask])\n",
    "print(f\"K-offest: {acc}\")"
   ]
  },
  {
   "cell_type": "code",
   "execution_count": 39,
   "id": "1f5d4ad2",
   "metadata": {},
   "outputs": [],
   "source": [
    "obc_train_loader = DataLoader(\n",
    "        dataset,\n",
    "        batch_size = 1,\n",
    "        shuffle=True,\n",
    "        collate_fn=dataset.collate_fn)"
   ]
  },
  {
   "cell_type": "code",
   "execution_count": 40,
   "id": "53297bfa",
   "metadata": {},
   "outputs": [],
   "source": [
    "data = iter(obc_train_loader)"
   ]
  },
  {
   "cell_type": "code",
   "execution_count": 41,
   "id": "d2e6491e",
   "metadata": {},
   "outputs": [
    {
     "data": {
      "text/plain": [
       "{'input_ids': tensor([[1733,  209,  234,  852,  977, 1488, 1730, 1730,  659,  882,   86,  596,\n",
       "          1412, 1730]]),\n",
       " 'attention_mask': tensor([[[ True,  True,  True,  True,  True,  True,  True,  True,  True,  True,\n",
       "            True,  True,  True,  True],\n",
       "          [ True,  True, False, False, False,  True,  True,  True, False, False,\n",
       "           False,  True, False,  True],\n",
       "          [ True,  True,  True, False, False, False, False,  True, False,  True,\n",
       "           False,  True, False, False],\n",
       "          [ True,  True, False,  True, False, False,  True, False,  True,  True,\n",
       "           False, False, False, False],\n",
       "          [ True, False,  True, False,  True, False, False, False, False,  True,\n",
       "            True,  True,  True,  True],\n",
       "          [ True,  True,  True, False,  True,  True, False,  True, False, False,\n",
       "           False, False, False, False],\n",
       "          [ True,  True,  True,  True, False, False,  True, False, False, False,\n",
       "           False,  True, False, False],\n",
       "          [ True, False, False, False,  True, False, False,  True, False,  True,\n",
       "            True, False,  True, False],\n",
       "          [ True,  True, False,  True,  True,  True, False, False,  True, False,\n",
       "            True,  True, False, False],\n",
       "          [ True, False, False, False, False,  True, False, False,  True,  True,\n",
       "           False, False,  True, False],\n",
       "          [ True, False,  True,  True, False,  True, False,  True, False,  True,\n",
       "            True, False, False, False],\n",
       "          [ True, False, False, False, False,  True, False, False,  True, False,\n",
       "            True,  True, False,  True],\n",
       "          [ True, False,  True, False, False,  True, False, False, False, False,\n",
       "           False, False,  True, False],\n",
       "          [ True, False, False, False, False, False, False, False, False, False,\n",
       "           False, False, False,  True]]]),\n",
       " 'positions': tensor([[[1., 1., 1., 1.],\n",
       "          [1., 1., 1., 1.],\n",
       "          [1., 1., 1., 1.],\n",
       "          [1., 1., 1., 1.],\n",
       "          [1., 1., 1., 1.],\n",
       "          [1., 1., 1., 1.],\n",
       "          [1., 1., 1., 1.],\n",
       "          [1., 1., 1., 1.],\n",
       "          [1., 1., 1., 1.],\n",
       "          [1., 1., 1., 1.],\n",
       "          [1., 1., 1., 1.],\n",
       "          [1., 1., 1., 1.],\n",
       "          [1., 1., 1., 1.],\n",
       "          [1., 1., 1., 1.]]]),\n",
       " 'sentence_ids': tensor([[2, 0, 0, 2, 0, 0, 0, 0, 0, 0, 0, 0, 1]]),\n",
       " 'order_ids': tensor([[1, 8, 2, 0, 7, 0, 1, 3, 4, 6, 5, 9, 0]]),\n",
       " 'K': tensor([3]),\n",
       " 'names': ['h25439.jpg']}"
      ]
     },
     "execution_count": 41,
     "metadata": {},
     "output_type": "execute_result"
    }
   ],
   "source": [
    "item_data = data._next_data()\n",
    "item_data"
   ]
  },
  {
   "cell_type": "code",
   "execution_count": 42,
   "id": "f0bca086",
   "metadata": {},
   "outputs": [],
   "source": [
    "batch_input = {k: v.to(device) for k, v in item_data.items() if isinstance(v, torch.Tensor)}\n",
    "            \n",
    "inputs = {\n",
    "    \"input_ids\": batch_input['input_ids'],\n",
    "    \"attention_mask\": batch_input['attention_mask'],\n",
    "    \"position_ids\": batch_input['positions'],\n",
    "}\n",
    "\n",
    "k_gt = batch_input['K']\n",
    "order_ids = batch_input['order_ids']\n",
    "sentence_ids = batch_input['sentence_ids']"
   ]
  },
  {
   "cell_type": "code",
   "execution_count": 43,
   "id": "ab8da43f",
   "metadata": {},
   "outputs": [],
   "source": [
    "seq_logic, sort_logic, k_pred = model(inputs, sentence_ids)"
   ]
  },
  {
   "cell_type": "code",
   "execution_count": 44,
   "id": "9c1e25d5",
   "metadata": {},
   "outputs": [
    {
     "data": {
      "image/png": "[encoded data removed]",
      "text/plain": [
       "<Figure size 1400x700 with 1 Axes>"
      ]
     },
     "metadata": {},
     "output_type": "display_data"
    },
    {
     "data": {
      "text/plain": [
       "{'AMI': 0.6178607306769147,\n",
       " 'NMI': 0.6725962668139219,\n",
       " 'ARI': 0.6,\n",
       " 'Purity': 0.9166666666666666}"
      ]
     },
     "execution_count": 44,
     "metadata": {},
     "output_type": "execute_result"
    }
   ],
   "source": [
    "import torch\n",
    "import matplotlib.pyplot as plt\n",
    "from sklearn.manifold import TSNE\n",
    "from sklearn.cluster import DBSCAN, KMeans\n",
    "import numpy as np\n",
    "import torch.nn.functional as F\n",
    "\n",
    "tensor = F.normalize(seq_logic, 2, -1)[0].detach().cpu().numpy()\n",
    "tensor=tensor[1:]\n",
    "\n",
    "# 使用 DBSCAN 聚类\n",
    "dbscan = DBSCAN(eps=0.15, min_samples=1)  # eps 和 min_samples 需根据数据调优\n",
    "labels = dbscan.fit_predict(tensor)\n",
    "\n",
    "# kmeans = KMeans(n_clusters=k_pred.max(-1)[-1].item(), init='k-means++', random_state=42, tol=1, max_iter=300)\n",
    "# labels = kmeans.fit_predict(tensor)\n",
    "\n",
    "\n",
    "# dist = torch.cdist(torch.from_numpy(tensor), torch.from_numpy(tensor)) < 0.1\n",
    "# labels = louvain_clustering(dist.numpy(), 0.7)\n",
    "# labels = np.array(labels)\n",
    "# t-SNE 降维\n",
    "\n",
    "tsne = TSNE(n_components=2, perplexity=1, random_state=0)\n",
    "tensor_2d = tsne.fit_transform(tensor)\n",
    "\n",
    "# 可视化聚类结果\n",
    "plt.figure(figsize=(14, 7))\n",
    "num_clusters = len(set(labels)) - (1 if -1 in labels else 0)\n",
    "# print(f\"自动检测的聚类数量: {num_clusters}\", \"预测的聚类数量: \", k_pred.max(-1)[-1].item())\n",
    "\n",
    "# 颜色映射：-1 是噪声点\n",
    "colors = [plt.cm.tab10(label % 10) if label != -1 else 'k' for label in item_data[\"sentence_ids\"][0][1:].tolist()]\n",
    "plt.scatter(tensor_2d[:, 0], tensor_2d[:, 1], c=colors, s=50)\n",
    "colors = [plt.cm.tab10(label % 10) if label != -1 else 'k' for label in labels]\n",
    "plt.scatter(tensor_2d[:, 0] + (tensor_2d[:, 0].max() - tensor_2d[:, 0].min()) + 80, tensor_2d[:, 1], c=colors, s=50)\n",
    "\n",
    "# 添加点标签\n",
    "for i, (x, y) in enumerate(tensor_2d):\n",
    "    plt.text(x + 0.3, y, str(i), fontsize=9)\n",
    "\n",
    "plt.title(\"DBSCAN Clustering of t-SNE Embeddings\")\n",
    "plt.show()\n",
    "\n",
    "evaluate_clustering(item_data[\"sentence_ids\"][0][1:].numpy(), labels)"
   ]
  },
  {
   "cell_type": "code",
   "execution_count": 45,
   "id": "a9c76bf7",
   "metadata": {},
   "outputs": [
    {
     "data": {
      "text/plain": [
       "array([0, 0, 2, 0, 0, 0, 0, 0, 0, 0, 0, 1])"
      ]
     },
     "execution_count": 45,
     "metadata": {},
     "output_type": "execute_result"
    }
   ],
   "source": [
    "item_data[\"sentence_ids\"][0][1:].numpy()"
   ]
  }
 ],
 "metadata": {
  "kernelspec": {
   "display_name": "langchain",
   "language": "python",
   "name": "python3"
  },
  "language_info": {
   "codemirror_mode": {
    "name": "ipython",
    "version": 3
   },
   "file_extension": ".py",
   "mimetype": "text/x-python",
   "name": "python",
   "nbconvert_exporter": "python",
   "pygments_lexer": "ipython3",
   "version": "3.11.11"
  }
 },
 "nbformat": 4,
 "nbformat_minor": 5
}
